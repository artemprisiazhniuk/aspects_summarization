{
 "cells": [
  {
   "cell_type": "markdown",
   "metadata": {},
   "source": [
    "11 cities $\\cdot$ 200 hotels $\\cdot$ 500 reviews = 1.100.000 reviews "
   ]
  },
  {
   "cell_type": "code",
   "execution_count": null,
   "metadata": {},
   "outputs": [],
   "source": [
    "import collect_tripadvisor as collect"
   ]
  },
  {
   "cell_type": "markdown",
   "metadata": {},
   "source": [
    "### Amsterdam"
   ]
  },
  {
   "cell_type": "code",
   "execution_count": null,
   "metadata": {},
   "outputs": [],
   "source": [
    "url = \"https://www.tripadvisor.ru/Hotels-g188590-oa{}-Amsterdam_North_Holland_Province-Hotels.html\"\n",
    "links = collect.get_links(url, links_limit=1000)\n",
    "\n",
    "city = 'amsterdam_100_500'\n",
    "collect.get_reviews(links[:100], city, hotels_limit=100, reviews_limit=500)"
   ]
  },
  {
   "cell_type": "code",
   "execution_count": null,
   "metadata": {},
   "outputs": [],
   "source": [
    "city = 'amsterdam_200_500'\n",
    "collect.get_reviews(links[100:200], city, hotels_limit=100, reviews_limit=500)"
   ]
  },
  {
   "cell_type": "markdown",
   "metadata": {},
   "source": [
    "### Barcelona"
   ]
  },
  {
   "cell_type": "code",
   "execution_count": null,
   "metadata": {},
   "outputs": [],
   "source": [
    "url = \"https://www.tripadvisor.ru/Hotels-g187497-oa{}-Barcelona_Catalonia-Hotels.html\"\n",
    "links = collect.get_links(url, links_limit=1000)\n",
    "\n",
    "city = 'barcelona_100_500'\n",
    "collect.get_reviews(links[:100], city, hotels_limit=100, reviews_limit=500)"
   ]
  },
  {
   "cell_type": "code",
   "execution_count": null,
   "metadata": {},
   "outputs": [],
   "source": [
    "city = 'barcelona_200_500'\n",
    "collect.get_reviews(links[100:200], city, hotels_limit=100, reviews_limit=500)"
   ]
  },
  {
   "cell_type": "markdown",
   "metadata": {},
   "source": [
    "### Berlin"
   ]
  },
  {
   "cell_type": "code",
   "execution_count": null,
   "metadata": {},
   "outputs": [],
   "source": [
    "url = \"https://www.tripadvisor.ru/Hotels-g187323-oa{}-Berlin-Hotels.html\"\n",
    "links = collect.get_links(url, links_limit=1000)\n",
    "\n",
    "city = 'berlin_100_500'\n",
    "collect.get_reviews(links[:100], city, hotels_limit=100, reviews_limit=500)"
   ]
  },
  {
   "cell_type": "code",
   "execution_count": null,
   "metadata": {},
   "outputs": [],
   "source": [
    "city = 'berlin_200_500'\n",
    "collect.get_reviews(links[100:200], city, hotels_limit=100, reviews_limit=500)"
   ]
  },
  {
   "cell_type": "markdown",
   "metadata": {},
   "source": [
    "### Istanbul"
   ]
  },
  {
   "cell_type": "code",
   "execution_count": null,
   "metadata": {},
   "outputs": [],
   "source": [
    "url = \"https://www.tripadvisor.ru/Hotels-g293974-oa{}-Istanbul-Hotels.html\"\n",
    "links = collect.get_links(url, links_limit=1000)\n",
    "\n",
    "city = 'istanbul_100_500'\n",
    "collect.get_reviews(links[:100], city, hotels_limit=100, reviews_limit=500)"
   ]
  },
  {
   "cell_type": "code",
   "execution_count": null,
   "metadata": {},
   "outputs": [],
   "source": [
    "city = 'istanbul_200_500'\n",
    "collect.get_reviews(links[100:200], city, hotels_limit=100, reviews_limit=500)"
   ]
  },
  {
   "cell_type": "markdown",
   "metadata": {},
   "source": [
    "### Lisbon"
   ]
  },
  {
   "cell_type": "code",
   "execution_count": null,
   "metadata": {},
   "outputs": [],
   "source": [
    "url = \"https://www.tripadvisor.ru/Hotels-g189158-oa{}-Lisbon_Lisbon_District_Central_Portugal-Hotels.html\"\n",
    "links = collect.get_links(url, links_limit=1000)\n",
    "\n",
    "city = 'lisbon_100_500'\n",
    "collect.get_reviews(links[:100], city, hotels_limit=100, reviews_limit=500)"
   ]
  },
  {
   "cell_type": "code",
   "execution_count": null,
   "metadata": {},
   "outputs": [],
   "source": [
    "city = 'lisbon_200_500'\n",
    "collect.get_reviews(links[100:200], city, hotels_limit=100, reviews_limit=500)"
   ]
  },
  {
   "cell_type": "markdown",
   "metadata": {},
   "source": [
    "### London"
   ]
  },
  {
   "cell_type": "code",
   "execution_count": null,
   "metadata": {},
   "outputs": [],
   "source": [
    "url = \"https://www.tripadvisor.ru/Hotels-g186338-oa{}-London_England-Hotels.html\"\n",
    "links = collect.get_links(url, links_limit=1000)\n",
    "\n",
    "city = 'london_100_500'\n",
    "collect.get_reviews(links[:100], city, hotels_limit=100, reviews_limit=500)"
   ]
  },
  {
   "cell_type": "code",
   "execution_count": null,
   "metadata": {},
   "outputs": [],
   "source": [
    "city = 'london_200_500'\n",
    "collect.get_reviews(links[100:200], city, hotels_limit=100, reviews_limit=500)"
   ]
  },
  {
   "cell_type": "markdown",
   "metadata": {},
   "source": [
    "### Madrid"
   ]
  },
  {
   "cell_type": "code",
   "execution_count": null,
   "metadata": {},
   "outputs": [],
   "source": [
    "url = \"https://www.tripadvisor.ru/Hotels-g187514-oa{}-Madrid-Hotels.html\"\n",
    "links = collect.get_links(url, links_limit=1000)\n",
    "\n",
    "city = 'madrid_100_500'\n",
    "collect.get_reviews(links[:100], city, hotels_limit=100, reviews_limit=500)"
   ]
  },
  {
   "cell_type": "code",
   "execution_count": null,
   "metadata": {},
   "outputs": [],
   "source": [
    "city = 'madrid_200_500'\n",
    "collect.get_reviews(links[100:200], city, hotels_limit=100, reviews_limit=500)"
   ]
  },
  {
   "cell_type": "markdown",
   "metadata": {},
   "source": [
    "### Paris"
   ]
  },
  {
   "cell_type": "code",
   "execution_count": null,
   "metadata": {},
   "outputs": [],
   "source": [
    "url = \"https://www.tripadvisor.ru/Hotels-g187147-oa{}-Paris_Ile_de_France-Hotels.html\"\n",
    "links = collect.get_links(url, links_limit=1000)\n",
    "\n",
    "city = 'paris_100_500'\n",
    "collect.get_reviews(links[:100], city, hotels_limit=100, reviews_limit=500)"
   ]
  },
  {
   "cell_type": "code",
   "execution_count": null,
   "metadata": {},
   "outputs": [],
   "source": [
    "city = 'paris_200_500'\n",
    "collect.get_reviews(links[100:200], city, hotels_limit=100, reviews_limit=500)"
   ]
  },
  {
   "cell_type": "markdown",
   "metadata": {},
   "source": [
    "### Rome"
   ]
  },
  {
   "cell_type": "code",
   "execution_count": null,
   "metadata": {},
   "outputs": [],
   "source": [
    "url = \"https://www.tripadvisor.ru/Hotels-g187791-oa{}-Rome_Lazio-Hotels.html\"\n",
    "links = collect.get_links(url, links_limit=1000)\n",
    "\n",
    "city = 'rome_100_500'\n",
    "collect.get_reviews(links[:100], city, hotels_limit=100, reviews_limit=500)"
   ]
  },
  {
   "cell_type": "code",
   "execution_count": null,
   "metadata": {},
   "outputs": [],
   "source": [
    "city = 'rome_200_500'\n",
    "collect.get_reviews(links[100:200], city, hotels_limit=100, reviews_limit=500)"
   ]
  },
  {
   "cell_type": "markdown",
   "metadata": {},
   "source": [
    "### Tbilisi"
   ]
  },
  {
   "cell_type": "code",
   "execution_count": null,
   "metadata": {},
   "outputs": [],
   "source": [
    "url = \"https://www.tripadvisor.ru/Hotels-g294195-oa{}-Tbilisi-Hotels.html\"\n",
    "links = collect.get_links(url, links_limit=1500)\n",
    "\n",
    "city = 'tbilisi_100_500'\n",
    "collect.get_reviews(links[:100], city, hotels_limit=100, reviews_limit=500)"
   ]
  },
  {
   "cell_type": "code",
   "execution_count": null,
   "metadata": {},
   "outputs": [],
   "source": [
    "city = 'tbilisi_200_500'\n",
    "collect.get_reviews(links[100:200], city, hotels_limit=100, reviews_limit=500)"
   ]
  },
  {
   "cell_type": "markdown",
   "metadata": {},
   "source": [
    "### Yerevan"
   ]
  },
  {
   "cell_type": "code",
   "execution_count": null,
   "metadata": {},
   "outputs": [],
   "source": [
    "url = \"https://www.tripadvisor.ru/Hotels-g293932-oa{}-Yerevan-Hotels.html\"\n",
    "links = collect.get_links(url, links_limit=1000)\n",
    "\n",
    "city = 'yerevan_100_500'\n",
    "collect.get_reviews(links[:100], city, hotels_limit=100, reviews_limit=500)"
   ]
  },
  {
   "cell_type": "code",
   "execution_count": null,
   "metadata": {},
   "outputs": [],
   "source": [
    "city = 'yerevan_200_500'\n",
    "collect.get_reviews(links[100:200], city, hotels_limit=100, reviews_limit=500)"
   ]
  }
 ],
 "metadata": {
  "kernelspec": {
   "display_name": "Python 3.10.7 64-bit",
   "language": "python",
   "name": "python3"
  },
  "language_info": {
   "name": "python",
   "version": "3.10.7"
  },
  "orig_nbformat": 4,
  "vscode": {
   "interpreter": {
    "hash": "26de051ba29f2982a8de78e945f0abaf191376122a1563185a90213a26c5da77"
   }
  }
 },
 "nbformat": 4,
 "nbformat_minor": 2
}
