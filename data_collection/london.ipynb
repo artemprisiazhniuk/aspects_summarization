{
 "cells": [
  {
   "cell_type": "code",
   "execution_count": 1,
   "metadata": {},
   "outputs": [
    {
     "name": "stdout",
     "output_type": "stream",
     "text": [
      "400\n"
     ]
    },
    {
     "name": "stderr",
     "output_type": "stream",
     "text": [
      "100%|██████████| 14/14 [00:54<00:00,  3.88s/it]\n",
      "100%|██████████| 200/200 [2:08:50<00:00, 38.65s/it]  \n"
     ]
    }
   ],
   "source": [
    "import collect_tripadvisor as collect\n",
    "\n",
    "url = \"https://www.tripadvisor.ru/Hotels-g186338-oa{}-London_England-Hotels.html\"\n",
    "city = 'london'\n",
    "\n",
    "links = collect.get_links(url, links_limit=400)\n",
    "collect.get_reviews(links, city, hotels_limit=200, reviews_limit=100)"
   ]
  },
  {
   "cell_type": "code",
   "execution_count": null,
   "metadata": {},
   "outputs": [],
   "source": []
  },
  {
   "cell_type": "code",
   "execution_count": 1,
   "metadata": {},
   "outputs": [
    {
     "name": "stdout",
     "output_type": "stream",
     "text": [
      "1000\n"
     ]
    },
    {
     "name": "stderr",
     "output_type": "stream",
     "text": [
      "100%|██████████| 34/34 [01:45<00:00,  3.12s/it]\n",
      "100%|██████████| 100/100 [2:51:56<00:00, 103.16s/it] \n"
     ]
    }
   ],
   "source": [
    "import collect_tripadvisor as collect\n",
    "\n",
    "url = \"https://www.tripadvisor.ru/Hotels-g186338-oa{}-London_England-Hotels.html\"\n",
    "city = 'london_100_500'\n",
    "\n",
    "links = collect.get_links(url, links_limit=1000)\n",
    "collect.get_reviews(links[101:], city, hotels_limit=100, reviews_limit=500)"
   ]
  },
  {
   "cell_type": "code",
   "execution_count": null,
   "metadata": {},
   "outputs": [],
   "source": []
  }
 ],
 "metadata": {
  "kernelspec": {
   "display_name": "Python 3.10.7 64-bit",
   "language": "python",
   "name": "python3"
  },
  "language_info": {
   "codemirror_mode": {
    "name": "ipython",
    "version": 3
   },
   "file_extension": ".py",
   "mimetype": "text/x-python",
   "name": "python",
   "nbconvert_exporter": "python",
   "pygments_lexer": "ipython3",
   "version": "3.10.7"
  },
  "orig_nbformat": 4,
  "vscode": {
   "interpreter": {
    "hash": "26de051ba29f2982a8de78e945f0abaf191376122a1563185a90213a26c5da77"
   }
  }
 },
 "nbformat": 4,
 "nbformat_minor": 2
}
