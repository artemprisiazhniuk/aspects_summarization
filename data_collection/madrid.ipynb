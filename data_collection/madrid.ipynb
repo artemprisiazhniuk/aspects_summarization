{
 "cells": [
  {
   "cell_type": "code",
   "execution_count": 1,
   "metadata": {},
   "outputs": [
    {
     "name": "stdout",
     "output_type": "stream",
     "text": [
      "400\n"
     ]
    },
    {
     "name": "stderr",
     "output_type": "stream",
     "text": [
      "100%|██████████| 14/14 [00:47<00:00,  3.43s/it]\n",
      " 54%|█████▎    | 107/200 [1:00:36<52:40, 33.98s/it]\n"
     ]
    },
    {
     "ename": "AttributeError",
     "evalue": "'NoneType' object has no attribute 'text'",
     "output_type": "error",
     "traceback": [
      "\u001b[1;31m---------------------------------------------------------------------------\u001b[0m",
      "\u001b[1;31mAttributeError\u001b[0m                            Traceback (most recent call last)",
      "Cell \u001b[1;32mIn [1], line 7\u001b[0m\n\u001b[0;32m      4\u001b[0m city \u001b[38;5;241m=\u001b[39m \u001b[38;5;124m'\u001b[39m\u001b[38;5;124mmadrid\u001b[39m\u001b[38;5;124m'\u001b[39m\n\u001b[0;32m      6\u001b[0m links \u001b[38;5;241m=\u001b[39m collect\u001b[38;5;241m.\u001b[39mget_links(url, links_limit\u001b[38;5;241m=\u001b[39m\u001b[38;5;241m400\u001b[39m)\n\u001b[1;32m----> 7\u001b[0m \u001b[43mcollect\u001b[49m\u001b[38;5;241;43m.\u001b[39;49m\u001b[43mget_reviews\u001b[49m\u001b[43m(\u001b[49m\u001b[43mlinks\u001b[49m\u001b[43m,\u001b[49m\u001b[43m \u001b[49m\u001b[43mcity\u001b[49m\u001b[43m,\u001b[49m\u001b[43m \u001b[49m\u001b[43mhotels_limit\u001b[49m\u001b[38;5;241;43m=\u001b[39;49m\u001b[38;5;241;43m200\u001b[39;49m\u001b[43m,\u001b[49m\u001b[43m \u001b[49m\u001b[43mreviews_limit\u001b[49m\u001b[38;5;241;43m=\u001b[39;49m\u001b[38;5;241;43m100\u001b[39;49m\u001b[43m)\u001b[49m\n",
      "File \u001b[1;32md:\\aspects_summarization\\data_collection\\collect.py:66\u001b[0m, in \u001b[0;36mget_reviews\u001b[1;34m(links, city, hotels_limit, reviews_limit)\u001b[0m\n\u001b[0;32m     63\u001b[0m item_soup \u001b[39m=\u001b[39m BeautifulSoup(html2\u001b[39m.\u001b[39mcontent,\u001b[39m'\u001b[39m\u001b[39mlxml\u001b[39m\u001b[39m'\u001b[39m)\n\u001b[0;32m     64\u001b[0m \u001b[39mif\u001b[39;00m \u001b[39mnot\u001b[39;00m item_soup: \u001b[39mcontinue\u001b[39;00m\n\u001b[1;32m---> 66\u001b[0m num_reviews \u001b[39m=\u001b[39m \u001b[39mint\u001b[39m(item_soup\u001b[39m.\u001b[39;49mfind(\u001b[39m'\u001b[39;49m\u001b[39mspan\u001b[39;49m\u001b[39m'\u001b[39;49m, class_\u001b[39m=\u001b[39;49m\u001b[39m'\u001b[39;49m\u001b[39miypZC Mc _R b\u001b[39;49m\u001b[39m'\u001b[39;49m)\u001b[39m.\u001b[39;49mtext)\n\u001b[0;32m     67\u001b[0m \u001b[39mif\u001b[39;00m reviews_limit:\n\u001b[0;32m     68\u001b[0m     num_reviews \u001b[39m=\u001b[39m \u001b[39mmin\u001b[39m(num_reviews, reviews_limit)\n",
      "\u001b[1;31mAttributeError\u001b[0m: 'NoneType' object has no attribute 'text'"
     ]
    }
   ],
   "source": [
    "import collect_tripadvisor as collect\n",
    "\n",
    "url = 'https://www.tripadvisor.ru/Hotels-g187514-oa{}-Madrid-Hotels.html'\n",
    "city = 'madrid'\n",
    "\n",
    "links = collect.get_links(url, links_limit=400)\n",
    "collect.get_reviews(links, city, hotels_limit=200, reviews_limit=100)"
   ]
  },
  {
   "cell_type": "code",
   "execution_count": null,
   "metadata": {},
   "outputs": [],
   "source": []
  },
  {
   "cell_type": "code",
   "execution_count": 1,
   "metadata": {},
   "outputs": [
    {
     "name": "stdout",
     "output_type": "stream",
     "text": [
      "1000\n"
     ]
    },
    {
     "name": "stderr",
     "output_type": "stream",
     "text": [
      "100%|██████████| 34/34 [01:34<00:00,  2.77s/it]\n",
      "100%|██████████| 100/100 [2:03:41<00:00, 74.22s/it]  \n"
     ]
    }
   ],
   "source": [
    "import collect_tripadvisor as collect\n",
    "\n",
    "url = \"https://www.tripadvisor.ru/Hotels-g187514-oa{}-Madrid-Hotels.html\"\n",
    "city = 'madrid_100_500'\n",
    "\n",
    "links = collect.get_links(url, links_limit=1000)\n",
    "collect.get_reviews(links[101:], city, hotels_limit=100, reviews_limit=500)"
   ]
  },
  {
   "cell_type": "code",
   "execution_count": null,
   "metadata": {},
   "outputs": [],
   "source": []
  }
 ],
 "metadata": {
  "kernelspec": {
   "display_name": "Python 3.10.7 64-bit",
   "language": "python",
   "name": "python3"
  },
  "language_info": {
   "codemirror_mode": {
    "name": "ipython",
    "version": 3
   },
   "file_extension": ".py",
   "mimetype": "text/x-python",
   "name": "python",
   "nbconvert_exporter": "python",
   "pygments_lexer": "ipython3",
   "version": "3.10.7"
  },
  "orig_nbformat": 4,
  "vscode": {
   "interpreter": {
    "hash": "26de051ba29f2982a8de78e945f0abaf191376122a1563185a90213a26c5da77"
   }
  }
 },
 "nbformat": 4,
 "nbformat_minor": 2
}
